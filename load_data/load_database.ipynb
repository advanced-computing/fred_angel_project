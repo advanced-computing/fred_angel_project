{
 "cells": [
  {
   "cell_type": "markdown",
   "metadata": {},
   "source": [
    "## This will load in the database from the excel file"
   ]
  },
  {
   "cell_type": "code",
   "execution_count": 10,
   "metadata": {},
   "outputs": [],
   "source": [
    "import duckdb\n",
    "import pandas as pd\n",
    "\n",
    "# need to add openpyxl to requirements.txt"
   ]
  },
  {
   "cell_type": "code",
   "execution_count": 11,
   "metadata": {},
   "outputs": [
    {
     "name": "stdout",
     "output_type": "stream",
     "text": [
      "      DATE  PCPI98M11  PCPI98M12  PCPI99M1  PCPI99M2  PCPI99M3  PCPI99M4  \\\n",
      "0  1947:01        NaN        NaN       NaN       NaN       NaN       NaN   \n",
      "1  1947:02        NaN        NaN       NaN       NaN       NaN       NaN   \n",
      "2  1947:03        NaN        NaN       NaN       NaN       NaN       NaN   \n",
      "3  1947:04        NaN        NaN       NaN       NaN       NaN       NaN   \n",
      "4  1947:05        NaN        NaN       NaN       NaN       NaN       NaN   \n",
      "5  1947:06        NaN        NaN       NaN       NaN       NaN       NaN   \n",
      "6  1947:07        NaN        NaN       NaN       NaN       NaN       NaN   \n",
      "7  1947:08        NaN        NaN       NaN       NaN       NaN       NaN   \n",
      "8  1947:09        NaN        NaN       NaN       NaN       NaN       NaN   \n",
      "9  1947:10        NaN        NaN       NaN       NaN       NaN       NaN   \n",
      "\n",
      "   PCPI99M5  PCPI99M6  PCPI99M7  ...  PCPI24M5  PCPI24M6  PCPI24M7  PCPI24M8  \\\n",
      "0       NaN       NaN       NaN  ...     21.48     21.48     21.48     21.48   \n",
      "1       NaN       NaN       NaN  ...     21.62     21.62     21.62     21.62   \n",
      "2       NaN       NaN       NaN  ...     22.00     22.00     22.00     22.00   \n",
      "3       NaN       NaN       NaN  ...     22.00     22.00     22.00     22.00   \n",
      "4       NaN       NaN       NaN  ...     21.95     21.95     21.95     21.95   \n",
      "5       NaN       NaN       NaN  ...     22.08     22.08     22.08     22.08   \n",
      "6       NaN       NaN       NaN  ...     22.23     22.23     22.23     22.23   \n",
      "7       NaN       NaN       NaN  ...     22.40     22.40     22.40     22.40   \n",
      "8       NaN       NaN       NaN  ...     22.84     22.84     22.84     22.84   \n",
      "9       NaN       NaN       NaN  ...     22.91     22.91     22.91     22.91   \n",
      "\n",
      "   PCPI24M9  PCPI24M10  PCPI24M11  PCPI24M12  PCPI25M1  PCPI25M2  \n",
      "0     21.48      21.48      21.48      21.48     21.48     21.48  \n",
      "1     21.62      21.62      21.62      21.62     21.62     21.62  \n",
      "2     22.00      22.00      22.00      22.00     22.00     22.00  \n",
      "3     22.00      22.00      22.00      22.00     22.00     22.00  \n",
      "4     21.95      21.95      21.95      21.95     21.95     21.95  \n",
      "5     22.08      22.08      22.08      22.08     22.08     22.08  \n",
      "6     22.23      22.23      22.23      22.23     22.23     22.23  \n",
      "7     22.40      22.40      22.40      22.40     22.40     22.40  \n",
      "8     22.84      22.84      22.84      22.84     22.84     22.84  \n",
      "9     22.91      22.91      22.91      22.91     22.91     22.91  \n",
      "\n",
      "[10 rows x 317 columns]\n"
     ]
    }
   ],
   "source": [
    "# Making the \"API Call\"\n",
    "\n",
    "# I changed it to a csv to save work\n",
    "cpi_data = pd.read_excel('pcpiMvMd.xlsx')\n",
    "\n",
    "print(cpi_data.head(10))"
   ]
  },
  {
   "cell_type": "code",
   "execution_count": 12,
   "metadata": {},
   "outputs": [
    {
     "name": "stdout",
     "output_type": "stream",
     "text": [
      "            name\n",
      "0  original_data\n",
      "      DATE  PCPI98M11  PCPI98M12  PCPI99M1  PCPI99M2  PCPI99M3  PCPI99M4  \\\n",
      "0  1947:01        NaN        NaN       NaN       NaN       NaN       NaN   \n",
      "1  1947:02        NaN        NaN       NaN       NaN       NaN       NaN   \n",
      "2  1947:03        NaN        NaN       NaN       NaN       NaN       NaN   \n",
      "3  1947:04        NaN        NaN       NaN       NaN       NaN       NaN   \n",
      "4  1947:05        NaN        NaN       NaN       NaN       NaN       NaN   \n",
      "5  1947:06        NaN        NaN       NaN       NaN       NaN       NaN   \n",
      "6  1947:07        NaN        NaN       NaN       NaN       NaN       NaN   \n",
      "7  1947:08        NaN        NaN       NaN       NaN       NaN       NaN   \n",
      "8  1947:09        NaN        NaN       NaN       NaN       NaN       NaN   \n",
      "9  1947:10        NaN        NaN       NaN       NaN       NaN       NaN   \n",
      "\n",
      "   PCPI99M5  PCPI99M6  PCPI99M7  ...  PCPI24M5  PCPI24M6  PCPI24M7  PCPI24M8  \\\n",
      "0       NaN       NaN       NaN  ...     21.48     21.48     21.48     21.48   \n",
      "1       NaN       NaN       NaN  ...     21.62     21.62     21.62     21.62   \n",
      "2       NaN       NaN       NaN  ...     22.00     22.00     22.00     22.00   \n",
      "3       NaN       NaN       NaN  ...     22.00     22.00     22.00     22.00   \n",
      "4       NaN       NaN       NaN  ...     21.95     21.95     21.95     21.95   \n",
      "5       NaN       NaN       NaN  ...     22.08     22.08     22.08     22.08   \n",
      "6       NaN       NaN       NaN  ...     22.23     22.23     22.23     22.23   \n",
      "7       NaN       NaN       NaN  ...     22.40     22.40     22.40     22.40   \n",
      "8       NaN       NaN       NaN  ...     22.84     22.84     22.84     22.84   \n",
      "9       NaN       NaN       NaN  ...     22.91     22.91     22.91     22.91   \n",
      "\n",
      "   PCPI24M9  PCPI24M10  PCPI24M11  PCPI24M12  PCPI25M1  PCPI25M2  \n",
      "0     21.48      21.48      21.48      21.48     21.48     21.48  \n",
      "1     21.62      21.62      21.62      21.62     21.62     21.62  \n",
      "2     22.00      22.00      22.00      22.00     22.00     22.00  \n",
      "3     22.00      22.00      22.00      22.00     22.00     22.00  \n",
      "4     21.95      21.95      21.95      21.95     21.95     21.95  \n",
      "5     22.08      22.08      22.08      22.08     22.08     22.08  \n",
      "6     22.23      22.23      22.23      22.23     22.23     22.23  \n",
      "7     22.40      22.40      22.40      22.40     22.40     22.40  \n",
      "8     22.84      22.84      22.84      22.84     22.84     22.84  \n",
      "9     22.91      22.91      22.91      22.91     22.91     22.91  \n",
      "\n",
      "[10 rows x 317 columns]\n"
     ]
    }
   ],
   "source": [
    "# basically copying the example, hi Roberto\n",
    "\n",
    "file = 'cpi_data.db'\n",
    "con = duckdb.connect(file)\n",
    "\n",
    "con.execute('CREATE OR REPLACE TABLE original_data AS SELECT * FROM cpi_data')\n",
    "\n",
    "print(con.sql('SHOW TABLES').fetchdf())\n",
    "\n",
    "# show the original data\n",
    "print(con.sql('SELECT * FROM original_data LIMIT 10').fetchdf())\n",
    "\n",
    "\n",
    "con.close()\n",
    "\n"
   ]
  },
  {
   "cell_type": "code",
   "execution_count": 22,
   "metadata": {},
   "outputs": [
    {
     "name": "stdout",
     "output_type": "stream",
     "text": [
      "        DATE  PCPI99M3\n",
      "0    1947:01       NaN\n",
      "1    1947:02       NaN\n",
      "2    1947:03       NaN\n",
      "3    1947:04       NaN\n",
      "4    1947:05       NaN\n",
      "..       ...       ...\n",
      "932  2024:09       NaN\n",
      "933  2024:10       NaN\n",
      "934  2024:11       NaN\n",
      "935  2024:12       NaN\n",
      "936  2025:01       NaN\n",
      "\n",
      "[937 rows x 2 columns]\n"
     ]
    }
   ],
   "source": [
    "# This function will fetch the data up to a certain date\n",
    "\n",
    "def get_data(database, date):\n",
    "    \"\"\" parameters: \n",
    "    database referenced (ends in db)\n",
    "    date in DD-MM-YYYY format\n",
    "    \"\"\"\n",
    "    day, month, year = date.split('-')\n",
    "    year = year[2:]\n",
    "    month = month.lstrip('0')\n",
    "    \n",
    "    col_name = f'PCPI{year}M{month}'\n",
    "    \n",
    "    #can probably make this into a function\n",
    "    con = duckdb.connect(database)\n",
    "    \n",
    "    try:\n",
    "        \n",
    "        query = f'SELECT DATE, {col_name} FROM cpi_data'\n",
    "        \n",
    "        clean_data = con.sql(query).df()\n",
    "        \n",
    "    except Exception as e:\n",
    "        print('Error: ',e)\n",
    "        clean_data = pd.DataFrame()\n",
    "        \n",
    "    finally:\n",
    "        con.close()\n",
    "\n",
    "    return clean_data\n",
    "    \n",
    "test = get_data('cpi_data.db', '01-03-1999')\n",
    "\n",
    "print(test)\n",
    "\n"
   ]
  }
 ],
 "metadata": {
  "kernelspec": {
   "display_name": ".venv",
   "language": "python",
   "name": "python3"
  },
  "language_info": {
   "codemirror_mode": {
    "name": "ipython",
    "version": 3
   },
   "file_extension": ".py",
   "mimetype": "text/x-python",
   "name": "python",
   "nbconvert_exporter": "python",
   "pygments_lexer": "ipython3",
   "version": "3.9.13"
  }
 },
 "nbformat": 4,
 "nbformat_minor": 2
}
